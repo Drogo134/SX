{
 "cells": [
  {
   "cell_type": "markdown",
   "id": "c999bdde-3184-4542-9a2a-305ae92abe26",
   "metadata": {},
   "source": [
    "SpaceX Falcon 9 Landing Prediction: Machine Learning Pipeline\n",
    "In this notebook, we will build and evaluate several machine learning models to predict if the Falcon 9 first stage will land successfully. We will perform data preparation, hyperparameter tuning using GridSearchCV, and compare the final models based on their performance on a held-out test set.\n",
    "Initial Setup: Import Libraries and Load Data\n",
    "Explanation:\n",
    "First, we import all the necessary libraries for data manipulation, preprocessing, model creation, and evaluation. We then load our two datasets: dataset_part_2.csv which contains the Class column (our target), and dataset_part_3.csv which contains the preprocessed, one-hot encoded features (X)."
   ]
  },
  {
   "cell_type": "code",
   "execution_count": 1,
   "id": "0dda3350-11cf-4c03-8938-644f07d2588c",
   "metadata": {},
   "outputs": [
    {
     "name": "stdout",
     "output_type": "stream",
     "text": [
      "\n",
      "Data with Target Class (data):\n",
      "   FlightNumber        Date BoosterVersion  PayloadMass Orbit    LaunchSite  \\\n",
      "0             1  2010-06-04       Falcon 9  6104.959412   LEO  CCAFS SLC 40   \n",
      "1             2  2012-05-22       Falcon 9   525.000000   LEO  CCAFS SLC 40   \n",
      "2             3  2013-03-01       Falcon 9   677.000000   ISS  CCAFS SLC 40   \n",
      "3             4  2013-09-29       Falcon 9   500.000000    PO   VAFB SLC 4E   \n",
      "4             5  2013-12-03       Falcon 9  3170.000000   GTO  CCAFS SLC 40   \n",
      "\n",
      "       Outcome  Flights  GridFins  Reused   Legs LandingPad  Block  \\\n",
      "0    None None        1     False   False  False        NaN    1.0   \n",
      "1    None None        1     False   False  False        NaN    1.0   \n",
      "2    None None        1     False   False  False        NaN    1.0   \n",
      "3  False Ocean        1     False   False  False        NaN    1.0   \n",
      "4    None None        1     False   False  False        NaN    1.0   \n",
      "\n",
      "   ReusedCount Serial   Longitude   Latitude  Class  \n",
      "0            0  B0003  -80.577366  28.561857      0  \n",
      "1            0  B0005  -80.577366  28.561857      0  \n",
      "2            0  B0007  -80.577366  28.561857      0  \n",
      "3            0  B1003 -120.610829  34.632093      0  \n",
      "4            0  B1004  -80.577366  28.561857      0  \n",
      "\n",
      "Feature Data (X):\n",
      "    FlightNumber   PayloadMass  Flights  Block  ReusedCount  Orbit_ES-L1  \\\n",
      "0            1.0   6104.959412      1.0    1.0          0.0          0.0   \n",
      "1            2.0    525.000000      1.0    1.0          0.0          0.0   \n",
      "2            3.0    677.000000      1.0    1.0          0.0          0.0   \n",
      "3            4.0    500.000000      1.0    1.0          0.0          0.0   \n",
      "4            5.0   3170.000000      1.0    1.0          0.0          0.0   \n",
      "..           ...           ...      ...    ...          ...          ...   \n",
      "85          86.0  15400.000000      2.0    5.0          2.0          0.0   \n",
      "86          87.0  15400.000000      3.0    5.0          2.0          0.0   \n",
      "87          88.0  15400.000000      6.0    5.0          5.0          0.0   \n",
      "88          89.0  15400.000000      3.0    5.0          2.0          0.0   \n",
      "89          90.0   3681.000000      1.0    5.0          0.0          0.0   \n",
      "\n",
      "    Orbit_GEO  Orbit_GTO  Orbit_HEO  Orbit_ISS  ...  Serial_B1058  \\\n",
      "0         0.0        0.0        0.0        0.0  ...           0.0   \n",
      "1         0.0        0.0        0.0        0.0  ...           0.0   \n",
      "2         0.0        0.0        0.0        1.0  ...           0.0   \n",
      "3         0.0        0.0        0.0        0.0  ...           0.0   \n",
      "4         0.0        1.0        0.0        0.0  ...           0.0   \n",
      "..        ...        ...        ...        ...  ...           ...   \n",
      "85        0.0        0.0        0.0        0.0  ...           0.0   \n",
      "86        0.0        0.0        0.0        0.0  ...           1.0   \n",
      "87        0.0        0.0        0.0        0.0  ...           0.0   \n",
      "88        0.0        0.0        0.0        0.0  ...           0.0   \n",
      "89        0.0        0.0        0.0        0.0  ...           0.0   \n",
      "\n",
      "    Serial_B1059  Serial_B1060  Serial_B1062  GridFins_False  GridFins_True  \\\n",
      "0            0.0           0.0           0.0             1.0            0.0   \n",
      "1            0.0           0.0           0.0             1.0            0.0   \n",
      "2            0.0           0.0           0.0             1.0            0.0   \n",
      "3            0.0           0.0           0.0             1.0            0.0   \n",
      "4            0.0           0.0           0.0             1.0            0.0   \n",
      "..           ...           ...           ...             ...            ...   \n",
      "85           0.0           1.0           0.0             0.0            1.0   \n",
      "86           0.0           0.0           0.0             0.0            1.0   \n",
      "87           0.0           0.0           0.0             0.0            1.0   \n",
      "88           0.0           1.0           0.0             0.0            1.0   \n",
      "89           0.0           0.0           1.0             0.0            1.0   \n",
      "\n",
      "    Reused_False  Reused_True  Legs_False  Legs_True  \n",
      "0            1.0          0.0         1.0        0.0  \n",
      "1            1.0          0.0         1.0        0.0  \n",
      "2            1.0          0.0         1.0        0.0  \n",
      "3            1.0          0.0         1.0        0.0  \n",
      "4            1.0          0.0         1.0        0.0  \n",
      "..           ...          ...         ...        ...  \n",
      "85           0.0          1.0         0.0        1.0  \n",
      "86           0.0          1.0         0.0        1.0  \n",
      "87           0.0          1.0         0.0        1.0  \n",
      "88           0.0          1.0         0.0        1.0  \n",
      "89           1.0          0.0         0.0        1.0  \n",
      "\n",
      "[90 rows x 83 columns]\n"
     ]
    }
   ],
   "source": [
    "# --- Import Libraries ---\n",
    "import pandas as pd\n",
    "import numpy as np\n",
    "from sklearn import preprocessing\n",
    "from sklearn.model_selection import train_test_split, GridSearchCV\n",
    "from sklearn.linear_model import LogisticRegression\n",
    "from sklearn.svm import SVC\n",
    "from sklearn.tree import DecisionTreeClassifier\n",
    "from sklearn.neighbors import KNeighborsClassifier\n",
    "\n",
    "# --- Load Data ---\n",
    "# Direct download of CSV files using pandas for standard Jupyter\n",
    "URL1 = \"https://cf-courses-data.s3.us.cloud-object-storage.appdomain.cloud/IBM-DS0321EN-SkillsNetwork/datasets/dataset_part_2.csv\"\n",
    "URL2 = \"https://cf-courses-data.s3.us.cloud-object-storage.appdomain.cloud/IBM-DS0321EN-SkillsNetwork/datasets/dataset_part_3.csv\"\n",
    "\n",
    "# Load the data\n",
    "data = pd.read_csv(URL1)\n",
    "X = pd.read_csv(URL2)\n",
    "\n",
    "# Display the first few rows to confirm data is loaded\n",
    "print(\"\\nData with Target Class (data):\")\n",
    "print(data.head())\n",
    "\n",
    "print(\"\\nFeature Data (X):\")\n",
    "print(X.head(100))\n"
   ]
  },
  {
   "cell_type": "code",
   "execution_count": 2,
   "id": "9e3e2838-8ff2-49dd-9d7e-7fd868b4e2b0",
   "metadata": {},
   "outputs": [],
   "source": [
    "# Add these imports to your first cell\n",
    "from sklearn.metrics import confusion_matrix, ConfusionMatrixDisplay\n",
    "import matplotlib.pyplot as plt"
   ]
  },
  {
   "cell_type": "markdown",
   "id": "257cc947-577b-47bc-82de-fb3e5f2ddec6",
   "metadata": {},
   "source": [
    "TASK 1: Create Target Variable Y\n",
    "Explanation:\n",
    "Machine learning models in scikit-learn require the target variable (the value we want to predict) to be in a separate, one-dimensional array. Here, we select the Class column from our data DataFrame and convert it into a NumPy array, which we will call Y."
   ]
  },
  {
   "cell_type": "code",
   "execution_count": 3,
   "id": "faa8596d-b33c-4e24-adf5-00423880547d",
   "metadata": {},
   "outputs": [
    {
     "name": "stdout",
     "output_type": "stream",
     "text": [
      "[0 0 0 0 0 0 1 1 0 0]\n"
     ]
    }
   ],
   "source": [
    "# Create a NumPy array from the 'Class' column and assign it to Y\n",
    "Y = data['Class'].to_numpy()\n",
    "\n",
    "# Display the first 10 elements of Y to verify\n",
    "print(Y[:10])"
   ]
  },
  {
   "cell_type": "markdown",
   "id": "1799340f-23ff-4aad-8424-63b54c4900f0",
   "metadata": {},
   "source": [
    "TASK 2: Standardize Feature Data X\n",
    "Explanation:\n",
    "Standardization is a crucial preprocessing step that scales our feature data to have a mean of 0 and a standard deviation of 1. This prevents features with large numerical ranges (like PayloadMass) from dominating the model's learning process. We use preprocessing.StandardScaler to learn the scaling parameters from our data and apply the transformation."
   ]
  },
  {
   "cell_type": "code",
   "execution_count": 4,
   "id": "0588c64a-bef2-48b5-8af7-3575a9349416",
   "metadata": {},
   "outputs": [
    {
     "name": "stdout",
     "output_type": "stream",
     "text": [
      "[[-1.71291154e+00 -1.94814463e-16 -6.53912840e-01 -1.57589457e+00\n",
      "  -9.73440458e-01 -1.05999788e-01 -1.05999788e-01 -6.54653671e-01\n",
      "  -1.05999788e-01 -5.51677284e-01  3.44342023e+00 -1.85695338e-01\n",
      "  -3.33333333e-01 -1.05999788e-01 -2.42535625e-01 -4.29197538e-01\n",
      "   7.97724035e-01 -5.68796459e-01 -4.10890702e-01 -4.10890702e-01\n",
      "  -1.50755672e-01 -7.97724035e-01 -1.50755672e-01 -3.92232270e-01\n",
      "   9.43398113e+00 -1.05999788e-01 -1.05999788e-01 -1.05999788e-01\n",
      "  -1.05999788e-01 -1.05999788e-01 -1.05999788e-01 -1.05999788e-01\n",
      "  -1.05999788e-01 -1.05999788e-01 -1.05999788e-01 -1.05999788e-01\n",
      "  -1.05999788e-01 -1.05999788e-01 -1.05999788e-01 -1.05999788e-01\n",
      "  -1.05999788e-01 -1.05999788e-01 -1.05999788e-01 -1.50755672e-01\n",
      "  -1.05999788e-01 -1.05999788e-01 -1.05999788e-01 -1.05999788e-01\n",
      "  -1.05999788e-01 -1.50755672e-01 -1.05999788e-01 -1.50755672e-01\n",
      "  -1.50755672e-01 -1.05999788e-01 -1.50755672e-01 -1.50755672e-01\n",
      "  -1.05999788e-01 -1.05999788e-01 -1.50755672e-01 -1.50755672e-01\n",
      "  -1.50755672e-01 -1.05999788e-01 -1.05999788e-01 -1.05999788e-01\n",
      "  -1.50755672e-01 -2.15665546e-01 -1.85695338e-01 -2.15665546e-01\n",
      "  -2.67261242e-01 -1.05999788e-01 -2.42535625e-01 -1.05999788e-01\n",
      "  -2.15665546e-01 -1.85695338e-01 -2.15665546e-01 -1.85695338e-01\n",
      "  -1.05999788e-01  1.87082869e+00 -1.87082869e+00  8.35531692e-01\n",
      "  -8.35531692e-01  1.93309133e+00 -1.93309133e+00]]\n"
     ]
    }
   ],
   "source": [
    "# Standardize the data in X using the StandardScaler\n",
    "transform = preprocessing.StandardScaler()\n",
    "X = transform.fit_transform(X)\n",
    "\n",
    "# The output X is now a NumPy array with scaled values\n",
    "print(X[0:1]) # Display the first row to see the scaled data"
   ]
  },
  {
   "cell_type": "markdown",
   "id": "84842810-e881-44f6-98e6-19f1747d5e45",
   "metadata": {},
   "source": [
    "TASK 3: Split Data into Training and Testing Sets\n",
    "Explanation:\n",
    "We split our dataset into two parts: a training set (which we'll use to train our models and tune their hyperparameters) and a test set (which will be held back as completely unseen data to evaluate final model performance). We use an 80/20 split and set random_state=2 to ensure our results are reproducible."
   ]
  },
  {
   "cell_type": "code",
   "execution_count": 5,
   "id": "7d77b2ca-65a4-4445-b8df-e03b56f4456d",
   "metadata": {},
   "outputs": [
    {
     "name": "stdout",
     "output_type": "stream",
     "text": [
      "Train set: (72, 83) (72,)\n",
      "Test set: (18, 83) (18,)\n"
     ]
    }
   ],
   "source": [
    "# Use train_test_split to create training and testing data\n",
    "X_train, X_test, Y_train, Y_test = train_test_split(X, Y, test_size=0.2, random_state=2)\n",
    "\n",
    "# Print the shapes of the new datasets to confirm the split\n",
    "print ('Train set:', X_train.shape,  Y_train.shape)\n",
    "print ('Test set:', X_test.shape,  Y_test.shape)"
   ]
  },
  {
   "cell_type": "markdown",
   "id": "f9aed769-a12e-4416-a4b4-ba3accfb67e0",
   "metadata": {},
   "source": [
    "TASK 4 & 5: Logistic Regression\n",
    "Explanation:\n",
    "We will first create a Logistic Regression model. We'll use GridSearchCV to systematically test different hyperparameters (C, penalty, solver) using 10-fold cross-validation to find the combination that performs best on the training data. After finding the best model, we will calculate its accuracy on the unseen test data."
   ]
  },
  {
   "cell_type": "code",
   "execution_count": 6,
   "id": "cac7ae92-8801-4126-be47-3ebbf0657a8e",
   "metadata": {},
   "outputs": [
    {
     "name": "stdout",
     "output_type": "stream",
     "text": [
      "Tuned Logistic Regression Parameters:  {'C': 0.01, 'penalty': 'l2', 'solver': 'lbfgs'}\n",
      "Best CV Accuracy (Logistic Regression): 0.8464285714285713\n",
      "Test Accuracy (Logistic Regression): 0.8333333333333334\n"
     ]
    }
   ],
   "source": [
    "# TASK 4: Create and tune the Logistic Regression model\n",
    "parameters_lr = {'C':[0.01,0.1,1],\n",
    "                 'penalty':['l2'],\n",
    "                 'solver':['lbfgs']}\n",
    "\n",
    "lr = LogisticRegression(random_state=1)\n",
    "logreg_cv = GridSearchCV(lr, parameters_lr, cv=10)\n",
    "logreg_cv.fit(X_train, Y_train)\n",
    "\n",
    "print(\"Tuned Logistic Regression Parameters: \", logreg_cv.best_params_)\n",
    "print(\"Best CV Accuracy (Logistic Regression):\", logreg_cv.best_score_)\n",
    "\n",
    "# TASK 5: Calculate the accuracy on the test data\n",
    "test_accuracy_lr = logreg_cv.score(X_test, Y_test)\n",
    "print(\"Test Accuracy (Logistic Regression):\", test_accuracy_lr)"
   ]
  },
  {
   "cell_type": "code",
   "execution_count": 7,
   "id": "06d5dac0-704a-4f7c-adee-f25b9022c178",
   "metadata": {},
   "outputs": [
    {
     "name": "stdout",
     "output_type": "stream",
     "text": [
      "Confusion Matrix for Logistic Regression:\n"
     ]
    },
    {
     "data": {
      "image/png": "[encoded data removed]",
      "text/plain": [
       "<Figure size 640x480 with 2 Axes>"
      ]
     },
     "metadata": {},
     "output_type": "display_data"
    }
   ],
   "source": [
    "# --- Plotting the Confusion Matrix for Logistic Regression ---\n",
    "\n",
    "# 1. Get the predictions from your fitted model (you already have this line)\n",
    "yhat_lr = logreg_cv.predict(X_test)\n",
    "\n",
    "# 2. Calculate the confusion matrix values\n",
    "cm_lr = confusion_matrix(Y_test, yhat_lr)\n",
    "\n",
    "# 3. Create a display object\n",
    "disp_lr = ConfusionMatrixDisplay(confusion_matrix=cm_lr)\n",
    "\n",
    "# 4. Plot the matrix\n",
    "print(\"Confusion Matrix for Logistic Regression:\")\n",
    "disp_lr.plot()\n",
    "plt.show()"
   ]
  },
  {
   "cell_type": "markdown",
   "id": "9374ae35-46ea-425d-a15f-db600e819096",
   "metadata": {},
   "source": [
    "TASK 6 & 7: Support Vector Machine (SVM)\n",
    "Explanation:\n",
    "Next, we create and tune a Support Vector Machine (SVM) model. We will test different kernels, C values (regularization strength), and gamma values to find the optimal combination for our data."
   ]
  },
  {
   "cell_type": "code",
   "execution_count": 8,
   "id": "afbe0aea-403a-4c6d-8ee3-9e42f03f8ff2",
   "metadata": {},
   "outputs": [
    {
     "name": "stdout",
     "output_type": "stream",
     "text": [
      "Tuned SVM Parameters:  {'C': 1.0, 'gamma': 0.03162277660168379, 'kernel': 'sigmoid'}\n",
      "Best CV Accuracy (SVM): 0.8482142857142856\n",
      "Test Accuracy (SVM): 0.8333333333333334\n"
     ]
    }
   ],
   "source": [
    "# TASK 6: Create and tune the SVM model\n",
    "parameters_svm = {'kernel':('linear', 'rbf','poly','sigmoid'),\n",
    "                  'C': np.logspace(-3, 3, 5),\n",
    "                  'gamma':np.logspace(-3, 3, 5)}\n",
    "\n",
    "svm = SVC(random_state=1)\n",
    "svm_cv = GridSearchCV(svm, parameters_svm, cv=10)\n",
    "svm_cv.fit(X_train, Y_train)\n",
    "\n",
    "print(\"Tuned SVM Parameters: \", svm_cv.best_params_)\n",
    "print(\"Best CV Accuracy (SVM):\", svm_cv.best_score_)\n",
    "\n",
    "# TASK 7: Calculate the accuracy on the test data\n",
    "test_accuracy_svm = svm_cv.score(X_test, Y_test)\n",
    "print(\"Test Accuracy (SVM):\", test_accuracy_svm)"
   ]
  },
  {
   "cell_type": "code",
   "execution_count": 9,
   "id": "9a69e4b8-390d-4766-9441-e506d62f9192",
   "metadata": {},
   "outputs": [
    {
     "name": "stdout",
     "output_type": "stream",
     "text": [
      "\n",
      "Confusion Matrix for Support Vector Machine (SVM):\n"
     ]
    },
    {
     "data": {
      "image/png": "[encoded data removed]",
      "text/plain": [
       "<Figure size 640x480 with 2 Axes>"
      ]
     },
     "metadata": {},
     "output_type": "display_data"
    }
   ],
   "source": [
    "# --- Plotting the Confusion Matrix for SVM ---\n",
    "\n",
    "yhat_svm = svm_cv.predict(X_test)\n",
    "cm_svm = confusion_matrix(Y_test, yhat_svm)\n",
    "disp_svm = ConfusionMatrixDisplay(confusion_matrix=cm_svm)\n",
    "\n",
    "print(\"\\nConfusion Matrix for Support Vector Machine (SVM):\")\n",
    "disp_svm.plot()\n",
    "plt.show()"
   ]
  },
  {
   "cell_type": "markdown",
   "id": "cf7f5069-5f70-47f0-94ae-d0959150446c",
   "metadata": {},
   "source": [
    "TASK 8 & 9: Decision Tree\n",
    "Explanation:\n",
    "Here, we build a Decision Tree classifier. We tune a wide range of parameters that control the tree's structure, such as the splitting criterion (gini, entropy), maximum depth, and the minimum number of samples required to split a node or form a leaf."
   ]
  },
  {
   "cell_type": "code",
   "execution_count": 10,
   "id": "e67cf2b9-bf56-4052-a5cc-8dd2f5e2a15c",
   "metadata": {},
   "outputs": [
    {
     "name": "stdout",
     "output_type": "stream",
     "text": [
      "Tuned Decision Tree Parameters:  {'criterion': 'gini', 'max_depth': 4, 'max_features': 'sqrt', 'min_samples_leaf': 1, 'min_samples_split': 10, 'splitter': 'random'}\n",
      "Best CV Accuracy (Decision Tree): 0.8357142857142857\n",
      "Test Accuracy (Decision Tree): 0.7777777777777778\n"
     ]
    }
   ],
   "source": [
    "# TASK 8: Create and tune the Decision Tree model\n",
    "# CORRECTED Code\n",
    "parameters_tree = {'criterion': ['gini', 'entropy'],\n",
    "                   'splitter': ['best', 'random'],\n",
    "                   'max_depth': [2*n for n in range(1,10)],\n",
    "                   'max_features': ['sqrt'], # <--- 'auto' has been removed\n",
    "                   'min_samples_leaf': [1, 2, 4],\n",
    "                   'min_samples_split': [2, 5, 10]}\n",
    "\n",
    "tree = DecisionTreeClassifier(random_state=1)\n",
    "tree_cv = GridSearchCV(tree, parameters_tree, cv=10)\n",
    "tree_cv.fit(X_train, Y_train)\n",
    "\n",
    "print(\"Tuned Decision Tree Parameters: \", tree_cv.best_params_)\n",
    "print(\"Best CV Accuracy (Decision Tree):\", tree_cv.best_score_)\n",
    "\n",
    "# TASK 9: Calculate the accuracy on the test data\n",
    "test_accuracy_tree = tree_cv.score(X_test, Y_test)\n",
    "print(\"Test Accuracy (Decision Tree):\", test_accuracy_tree)"
   ]
  },
  {
   "cell_type": "markdown",
   "id": "68e61377-dff7-4540-a5b5-3117a8f7a8f2",
   "metadata": {},
   "source": [
    "TASK 10 & 11: K-Nearest Neighbors (KNN)\n",
    "Explanation:\n",
    "Finally, we create a K-Nearest Neighbors (KNN) model. The main hyperparameter here is n_neighbors, which determines how many neighbors are considered when classifying a new data point. We'll test values from 1 to 10."
   ]
  },
  {
   "cell_type": "code",
   "execution_count": 11,
   "id": "424b9d67-8ba4-4312-8f46-e88ed9340316",
   "metadata": {},
   "outputs": [
    {
     "name": "stdout",
     "output_type": "stream",
     "text": [
      "Tuned KNN Parameters:  {'algorithm': 'auto', 'n_neighbors': 10, 'p': 1}\n",
      "Best CV Accuracy (KNN): 0.8482142857142858\n",
      "Test Accuracy (KNN): 0.8333333333333334\n"
     ]
    }
   ],
   "source": [
    "# TASK 10: Create and tune the KNN model\n",
    "parameters_knn = {'n_neighbors': [1, 2, 3, 4, 5, 6, 7, 8, 9, 10],\n",
    "                  'algorithm': ['auto', 'ball_tree', 'kd_tree', 'brute'],\n",
    "                  'p': [1,2]}\n",
    "\n",
    "knn = KNeighborsClassifier()\n",
    "knn_cv = GridSearchCV(knn, parameters_knn, cv=10)\n",
    "knn_cv.fit(X_train, Y_train)\n",
    "\n",
    "print(\"Tuned KNN Parameters: \", knn_cv.best_params_)\n",
    "print(\"Best CV Accuracy (KNN):\", knn_cv.best_score_)\n",
    "\n",
    "# TASK 11: Calculate the accuracy on the test data\n",
    "test_accuracy_knn = knn_cv.score(X_test, Y_test)\n",
    "print(\"Test Accuracy (KNN):\", test_accuracy_knn)"
   ]
  },
  {
   "cell_type": "code",
   "execution_count": 12,
   "id": "72dd067d-2180-4185-8e4b-39844780d372",
   "metadata": {},
   "outputs": [
    {
     "name": "stdout",
     "output_type": "stream",
     "text": [
      "\n",
      "Confusion Matrix for K-Nearest Neighbors (KNN):\n"
     ]
    },
    {
     "data": {
      "image/png": "[encoded data removed]",
      "text/plain": [
       "<Figure size 640x480 with 2 Axes>"
      ]
     },
     "metadata": {},
     "output_type": "display_data"
    }
   ],
   "source": [
    "# --- Plotting the Confusion Matrix for K-Nearest Neighbors (KNN) ---\n",
    "\n",
    "yhat_knn = knn_cv.predict(X_test)\n",
    "cm_knn = confusion_matrix(Y_test, yhat_knn)\n",
    "disp_knn = ConfusionMatrixDisplay(confusion_matrix=cm_knn)\n",
    "\n",
    "print(\"\\nConfusion Matrix for K-Nearest Neighbors (KNN):\")\n",
    "disp_knn.plot()\n",
    "plt.show()"
   ]
  },
  {
   "cell_type": "markdown",
   "id": "74b21852-b2c6-4f0b-a1da-6d95e081f85e",
   "metadata": {},
   "source": [
    "TASK 12: Find the Method That Performs Best\n",
    "Explanation:\n",
    "To determine the best overall model, we must compare their performance on the unseen test data. The accuracy on the validation set (the best_score_ from GridSearchCV) is used for tuning, but the test accuracy is the true measure of how well the model generalizes. We will create a simple report to compare the test accuracies."
   ]
  },
  {
   "cell_type": "code",
   "execution_count": 13,
   "id": "2544e689-db63-4291-8d69-4225f5fd4020",
   "metadata": {},
   "outputs": [
    {
     "name": "stdout",
     "output_type": "stream",
     "text": [
      "\n",
      "--- Model Performance Comparison ---\n",
      "Logistic Regression: 0.8333\n",
      "Support Vector Machine: 0.8333\n",
      "Decision Tree: 0.7778\n",
      "K-Nearest Neighbors: 0.8333\n",
      "------------------------------------\n",
      "\n",
      "The best performing model is 'Logistic Regression' with a test accuracy of 0.8333.\n"
     ]
    }
   ],
   "source": [
    "# Create a dictionary to hold the test accuracies\n",
    "model_performance = {\n",
    "    'Logistic Regression': test_accuracy_lr,\n",
    "    'Support Vector Machine': test_accuracy_svm,\n",
    "    'Decision Tree': test_accuracy_tree,\n",
    "    'K-Nearest Neighbors': test_accuracy_knn\n",
    "}\n",
    "\n",
    "# Find the best model\n",
    "best_model_name = max(model_performance, key=model_performance.get)\n",
    "best_model_accuracy = model_performance[best_model_name]\n",
    "\n",
    "# Print a summary report\n",
    "print(\"\\n--- Model Performance Comparison ---\")\n",
    "for model, acc in model_performance.items():\n",
    "    print(f\"{model}: {acc:.4f}\")\n",
    "print(\"------------------------------------\")\n",
    "print(f\"\\nThe best performing model is '{best_model_name}' with a test accuracy of {best_model_accuracy:.4f}.\")"
   ]
  },
  {
   "cell_type": "code",
   "execution_count": 14,
   "id": "52d3a468-0abf-48e1-94bd-aa763ac7fc96",
   "metadata": {},
   "outputs": [
    {
     "name": "stderr",
     "output_type": "stream",
     "text": [
      "C:\\Users\\Afribi\\AppData\\Local\\Temp\\ipykernel_15796\\57206251.py:10: FutureWarning: \n",
      "\n",
      "Passing `palette` without assigning `hue` is deprecated and will be removed in v0.14.0. Assign the `x` variable to `hue` and set `legend=False` for the same effect.\n",
      "\n",
      "  ax = sns.barplot(x='Model', y='Accuracy', data=performance_df, palette='viridis')\n"
     ]
    },
    {
     "data": {
      "image/png": "[encoded data removed]",
      "text/plain": [
       "<Figure size 1000x600 with 1 Axes>"
      ]
     },
     "metadata": {},
     "output_type": "display_data"
    }
   ],
   "source": [
    "# Import the necessary visualization libraries\n",
    "import matplotlib.pyplot as plt\n",
    "import seaborn as sns\n",
    "\n",
    "# Create a pandas DataFrame from the model_performance dictionary\n",
    "performance_df = pd.DataFrame(list(model_performance.items()), columns=['Model', 'Accuracy'])\n",
    "\n",
    "# --- Plotting the Bar Chart ---\n",
    "plt.figure(figsize=(10, 6))\n",
    "ax = sns.barplot(x='Model', y='Accuracy', data=performance_df, palette='viridis')\n",
    "\n",
    "# Set the title and labels for clarity\n",
    "plt.title('Comparison of Model Test Accuracies', fontsize=16)\n",
    "plt.xlabel('Classification Model', fontsize=12)\n",
    "plt.ylabel('Test Accuracy', fontsize=12)\n",
    "plt.ylim(0, 1.0) # Set y-axis to be from 0 to 1 for percentage context\n",
    "\n",
    "# Add the accuracy values on top of the bars\n",
    "for p in ax.patches:\n",
    "    ax.annotate(f\"{p.get_height():.4f}\", \n",
    "                (p.get_x() + p.get_width() / 2., p.get_height()), \n",
    "                ha = 'center', va = 'center', \n",
    "                xytext = (0, 9), \n",
    "                textcoords = 'offset points')\n",
    "\n",
    "# Rotate x-axis labels for better readability if they overlap\n",
    "plt.xticks(rotation=15)\n",
    "\n",
    "# Show the plot\n",
    "plt.show()"
   ]
  },
  {
   "cell_type": "code",
   "execution_count": null,
   "id": "5d5a1322-8ece-42b9-9e4e-c67a80e7ff2e",
   "metadata": {},
   "outputs": [],
   "source": []
  },
  {
   "cell_type": "code",
   "execution_count": null,
   "id": "65ddcd72-7d10-4be6-ac3b-632c2283dfd5",
   "metadata": {},
   "outputs": [],
   "source": []
  },
  {
   "cell_type": "code",
   "execution_count": null,
   "id": "92cba85f-df95-45fd-8f81-0a6806df8f2a",
   "metadata": {},
   "outputs": [],
   "source": []
  },
  {
   "cell_type": "code",
   "execution_count": null,
   "id": "22b5a7ce-df6d-4d93-8369-48e0e7de1a14",
   "metadata": {},
   "outputs": [],
   "source": []
  },
  {
   "cell_type": "code",
   "execution_count": null,
   "id": "659e9292-c9e6-4103-a534-c23603dc1196",
   "metadata": {},
   "outputs": [],
   "source": []
  },
  {
   "cell_type": "code",
   "execution_count": null,
   "id": "be1d1f8d-4119-4b06-baba-195f6c8579b4",
   "metadata": {},
   "outputs": [],
   "source": []
  },
  {
   "cell_type": "code",
   "execution_count": null,
   "id": "2c5591be-dbdf-4015-98e1-a839be4522af",
   "metadata": {},
   "outputs": [],
   "source": []
  },
  {
   "cell_type": "code",
   "execution_count": null,
   "id": "0675f771-6156-4b79-9ddb-fc4c98239193",
   "metadata": {},
   "outputs": [],
   "source": []
  },
  {
   "cell_type": "code",
   "execution_count": null,
   "id": "b5daeff8-63a3-49f2-a6f8-7e9fb5b9c533",
   "metadata": {},
   "outputs": [],
   "source": []
  },
  {
   "cell_type": "code",
   "execution_count": null,
   "id": "dbaad84b-ef18-4bee-96fe-9b80c4096d0d",
   "metadata": {},
   "outputs": [],
   "source": []
  },
  {
   "cell_type": "code",
   "execution_count": null,
   "id": "b515eeba-7f66-481f-bf1b-18ee23c7fbfd",
   "metadata": {},
   "outputs": [],
   "source": []
  },
  {
   "cell_type": "code",
   "execution_count": null,
   "id": "6c782a7f-4ae6-476c-b858-5e132273f920",
   "metadata": {},
   "outputs": [],
   "source": []
  },
  {
   "cell_type": "code",
   "execution_count": null,
   "id": "dc94460f-3d83-4c36-b472-d99b0bad1b27",
   "metadata": {},
   "outputs": [],
   "source": []
  },
  {
   "cell_type": "code",
   "execution_count": null,
   "id": "96942ba4-cdc2-4982-8c8e-0b34a25c2760",
   "metadata": {},
   "outputs": [],
   "source": []
  },
  {
   "cell_type": "code",
   "execution_count": null,
   "id": "6c2d2e45-5470-495a-993e-310adfb5b3cc",
   "metadata": {},
   "outputs": [],
   "source": []
  },
  {
   "cell_type": "code",
   "execution_count": null,
   "id": "4a073936-a259-4333-bb39-22845dd66f3e",
   "metadata": {},
   "outputs": [],
   "source": []
  },
  {
   "cell_type": "code",
   "execution_count": null,
   "id": "b45eb00a-cf74-476b-a14b-4617000f0ae8",
   "metadata": {},
   "outputs": [],
   "source": []
  }
 ],
 "metadata": {
  "kernelspec": {
   "display_name": "Python 3 (ipykernel)",
   "language": "python",
   "name": "python3"
  },
  "language_info": {
   "codemirror_mode": {
    "name": "ipython",
    "version": 3
   },
   "file_extension": ".py",
   "mimetype": "text/x-python",
   "name": "python",
   "nbconvert_exporter": "python",
   "pygments_lexer": "ipython3",
   "version": "3.12.3"
  }
 },
 "nbformat": 4,
 "nbformat_minor": 5
}
